{
 "cells": [
  {
   "cell_type": "code",
   "execution_count": 1,
   "metadata": {},
   "outputs": [],
   "source": [
    "import pandas as pd\n",
    "import numpy as np\n",
    "import statsmodels.api as sm\n",
    "import statsmodels.formula.api as smf\n",
    "import patsy\n",
    "\n",
    "from sklearn.model_selection import train_test_split\n",
    "from sklearn.linear_model import LinearRegression, Ridge, RidgeCV, Lasso, LassoCV\n",
    "from sklearn.preprocessing import StandardScaler, PolynomialFeatures\n",
    "from sklearn.metrics import r2_score\n",
    "import seaborn as sns\n",
    "import matplotlib.pyplot as plt\n",
    "import matplotlib.ticker as tkr\n",
    "%matplotlib inline"
   ]
  },
  {
   "cell_type": "markdown",
   "metadata": {},
   "source": [
    "I will define a function here for future usage during the plotting stage."
   ]
  },
  {
   "cell_type": "code",
   "execution_count": 60,
   "metadata": {},
   "outputs": [],
   "source": [
    "# Used to make plot details more clear and readable\n",
    "def num_format(x, pos):\n",
    "    return '{}'.format(x / 1000000.0)\n",
    "\n",
    "x_format = tkr.FuncFormatter(num_format)\n",
    "y_format = tkr.FuncFormatter(num_format)"
   ]
  },
  {
   "cell_type": "code",
   "execution_count": 34,
   "metadata": {},
   "outputs": [
    {
     "data": {
      "text/html": [
       "<div>\n",
       "<style scoped>\n",
       "    .dataframe tbody tr th:only-of-type {\n",
       "        vertical-align: middle;\n",
       "    }\n",
       "\n",
       "    .dataframe tbody tr th {\n",
       "        vertical-align: top;\n",
       "    }\n",
       "\n",
       "    .dataframe thead th {\n",
       "        text-align: right;\n",
       "    }\n",
       "</style>\n",
       "<table border=\"1\" class=\"dataframe\">\n",
       "  <thead>\n",
       "    <tr style=\"text-align: right;\">\n",
       "      <th></th>\n",
       "      <th>Streams</th>\n",
       "    </tr>\n",
       "    <tr>\n",
       "      <th>Token</th>\n",
       "      <th></th>\n",
       "    </tr>\n",
       "  </thead>\n",
       "  <tbody>\n",
       "    <tr>\n",
       "      <th>00EPIEnX1JFjff8sC6bccd</th>\n",
       "      <td>29236210</td>\n",
       "    </tr>\n",
       "    <tr>\n",
       "      <th>00ko9WaS4jOX1kEk3gvHjf</th>\n",
       "      <td>13404569</td>\n",
       "    </tr>\n",
       "    <tr>\n",
       "      <th>00mrTzjxIRuWJY01sRBJmO</th>\n",
       "      <td>877954</td>\n",
       "    </tr>\n",
       "    <tr>\n",
       "      <th>00v5O7qsglyTtp2q1M9DZr</th>\n",
       "      <td>1155602</td>\n",
       "    </tr>\n",
       "    <tr>\n",
       "      <th>01DOm09B2AbiTARAbXVI6g</th>\n",
       "      <td>10407677</td>\n",
       "    </tr>\n",
       "  </tbody>\n",
       "</table>\n",
       "</div>"
      ],
      "text/plain": [
       "                         Streams\n",
       "Token                           \n",
       "00EPIEnX1JFjff8sC6bccd  29236210\n",
       "00ko9WaS4jOX1kEk3gvHjf  13404569\n",
       "00mrTzjxIRuWJY01sRBJmO    877954\n",
       "00v5O7qsglyTtp2q1M9DZr   1155602\n",
       "01DOm09B2AbiTARAbXVI6g  10407677"
      ]
     },
     "execution_count": 34,
     "metadata": {},
     "output_type": "execute_result"
    }
   ],
   "source": [
    "chart_df = pd.read_csv('./data/chart_data.csv', index_col=0)\n",
    "\n",
    "chart_df['Token'] = [chart_df['Song Links'][item].split('/')[-1] for item in range(0, len(chart_df['Song Links']))]\n",
    "\n",
    "chart_df.dropna(axis=0, how='any', subset=['Artist'], inplace=True)\n",
    "\n",
    "chart_df.drop(labels=['Song Links'], axis=1, inplace=True)\n",
    "\n",
    "chart_df2 = chart_df.groupby(['Token']).agg({'Streams' : sum})\n",
    "\n",
    "chart_df2.head()"
   ]
  },
  {
   "cell_type": "code",
   "execution_count": 41,
   "metadata": {},
   "outputs": [
    {
     "data": {
      "text/html": [
       "<div>\n",
       "<style scoped>\n",
       "    .dataframe tbody tr th:only-of-type {\n",
       "        vertical-align: middle;\n",
       "    }\n",
       "\n",
       "    .dataframe tbody tr th {\n",
       "        vertical-align: top;\n",
       "    }\n",
       "\n",
       "    .dataframe thead th {\n",
       "        text-align: right;\n",
       "    }\n",
       "</style>\n",
       "<table border=\"1\" class=\"dataframe\">\n",
       "  <thead>\n",
       "    <tr style=\"text-align: right;\">\n",
       "      <th></th>\n",
       "      <th>Token</th>\n",
       "      <th>Streams</th>\n",
       "      <th>Title</th>\n",
       "      <th>Artist</th>\n",
       "      <th>Date</th>\n",
       "    </tr>\n",
       "  </thead>\n",
       "  <tbody>\n",
       "    <tr>\n",
       "      <th>36</th>\n",
       "      <td>00EPIEnX1JFjff8sC6bccd</td>\n",
       "      <td>29236210</td>\n",
       "      <td>No Me Acuerdo</td>\n",
       "      <td>Thalía</td>\n",
       "      <td>2018-11-08</td>\n",
       "    </tr>\n",
       "    <tr>\n",
       "      <th>51</th>\n",
       "      <td>00ko9WaS4jOX1kEk3gvHjf</td>\n",
       "      <td>13404569</td>\n",
       "      <td>Hot Shower</td>\n",
       "      <td>Chance the Rapper</td>\n",
       "      <td>2019-08-13</td>\n",
       "    </tr>\n",
       "    <tr>\n",
       "      <th>52</th>\n",
       "      <td>00mrTzjxIRuWJY01sRBJmO</td>\n",
       "      <td>877954</td>\n",
       "      <td>Dark Side Of The Moon (feat. Nicki Minaj)</td>\n",
       "      <td>Lil Wayne</td>\n",
       "      <td>2018-10-03</td>\n",
       "    </tr>\n",
       "    <tr>\n",
       "      <th>53</th>\n",
       "      <td>00v5O7qsglyTtp2q1M9DZr</td>\n",
       "      <td>1155602</td>\n",
       "      <td>Pray You Catch Me</td>\n",
       "      <td>Beyoncé</td>\n",
       "      <td>2019-04-23</td>\n",
       "    </tr>\n",
       "    <tr>\n",
       "      <th>65</th>\n",
       "      <td>01DOm09B2AbiTARAbXVI6g</td>\n",
       "      <td>10407677</td>\n",
       "      <td>CHopstix (with Travis Scott)</td>\n",
       "      <td>ScHoolboy Q</td>\n",
       "      <td>2019-04-20</td>\n",
       "    </tr>\n",
       "  </tbody>\n",
       "</table>\n",
       "</div>"
      ],
      "text/plain": [
       "                     Token   Streams  \\\n",
       "36  00EPIEnX1JFjff8sC6bccd  29236210   \n",
       "51  00ko9WaS4jOX1kEk3gvHjf  13404569   \n",
       "52  00mrTzjxIRuWJY01sRBJmO    877954   \n",
       "53  00v5O7qsglyTtp2q1M9DZr   1155602   \n",
       "65  01DOm09B2AbiTARAbXVI6g  10407677   \n",
       "\n",
       "                                        Title             Artist        Date  \n",
       "36                              No Me Acuerdo             Thalía  2018-11-08  \n",
       "51                                 Hot Shower  Chance the Rapper  2019-08-13  \n",
       "52  Dark Side Of The Moon (feat. Nicki Minaj)          Lil Wayne  2018-10-03  \n",
       "53                          Pray You Catch Me            Beyoncé  2019-04-23  \n",
       "65               CHopstix (with Travis Scott)        ScHoolboy Q  2019-04-20  "
      ]
     },
     "execution_count": 41,
     "metadata": {},
     "output_type": "execute_result"
    }
   ],
   "source": [
    "chart_df = chart_df2.merge(chart_df, how='left', left_on='Token', right_on='Token')\n",
    "\n",
    "chart_df.drop(labels=['Streams_y'], axis=1, inplace=True)\n",
    "\n",
    "chart_df.drop_duplicates(subset=['Token'], keep='last', inplace=True)\n",
    "\n",
    "chart_df.rename(columns={'Streams_x': 'Streams'}, inplace=True)\n",
    "\n",
    "chart_df.head()"
   ]
  },
  {
   "cell_type": "code",
   "execution_count": 42,
   "metadata": {},
   "outputs": [
    {
     "name": "stdout",
     "output_type": "stream",
     "text": [
      "<class 'pandas.core.frame.DataFrame'>\n",
      "Int64Index: 1886 entries, 0 to 1885\n",
      "Data columns (total 9 columns):\n",
      "Token               1886 non-null object\n",
      "Duration            1886 non-null int64\n",
      "Loudness            1886 non-null float64\n",
      "Speechiness         1886 non-null float64\n",
      "Energy              1886 non-null float64\n",
      "Tempo               1886 non-null float64\n",
      "Valence             1886 non-null float64\n",
      "Instrumentalness    1886 non-null float64\n",
      "Modality            1886 non-null int64\n",
      "dtypes: float64(6), int64(2), object(1)\n",
      "memory usage: 147.3+ KB\n"
     ]
    }
   ],
   "source": [
    "song_df = pd.read_csv('./data/song_data.csv', index_col=0)\n",
    "\n",
    "song_df.drop(labels=['Title', 'Artist', 'Streams', 'Date'], axis=1, inplace=True)\n",
    "\n",
    "song_df.info()"
   ]
  },
  {
   "cell_type": "code",
   "execution_count": 43,
   "metadata": {},
   "outputs": [
    {
     "data": {
      "text/html": [
       "<div>\n",
       "<style scoped>\n",
       "    .dataframe tbody tr th:only-of-type {\n",
       "        vertical-align: middle;\n",
       "    }\n",
       "\n",
       "    .dataframe tbody tr th {\n",
       "        vertical-align: top;\n",
       "    }\n",
       "\n",
       "    .dataframe thead th {\n",
       "        text-align: right;\n",
       "    }\n",
       "</style>\n",
       "<table border=\"1\" class=\"dataframe\">\n",
       "  <thead>\n",
       "    <tr style=\"text-align: right;\">\n",
       "      <th></th>\n",
       "      <th>Artist</th>\n",
       "      <th>Followers</th>\n",
       "    </tr>\n",
       "  </thead>\n",
       "  <tbody>\n",
       "    <tr>\n",
       "      <th>195</th>\n",
       "      <td>Summer Walker</td>\n",
       "      <td>534292</td>\n",
       "    </tr>\n",
       "    <tr>\n",
       "      <th>142</th>\n",
       "      <td>The Weeknd</td>\n",
       "      <td>17289675</td>\n",
       "    </tr>\n",
       "    <tr>\n",
       "      <th>130</th>\n",
       "      <td>a-ha</td>\n",
       "      <td>955347</td>\n",
       "    </tr>\n",
       "    <tr>\n",
       "      <th>380</th>\n",
       "      <td>R3HAB</td>\n",
       "      <td>1819163</td>\n",
       "    </tr>\n",
       "    <tr>\n",
       "      <th>224</th>\n",
       "      <td>Tropkillaz</td>\n",
       "      <td>165670</td>\n",
       "    </tr>\n",
       "    <tr>\n",
       "      <th>18</th>\n",
       "      <td>KitschKrieg</td>\n",
       "      <td>63128</td>\n",
       "    </tr>\n",
       "    <tr>\n",
       "      <th>172</th>\n",
       "      <td>Felipe Araújo</td>\n",
       "      <td>2392958</td>\n",
       "    </tr>\n",
       "    <tr>\n",
       "      <th>483</th>\n",
       "      <td>es</td>\n",
       "      <td>2101</td>\n",
       "    </tr>\n",
       "    <tr>\n",
       "      <th>475</th>\n",
       "      <td>Lil Tecca</td>\n",
       "      <td>810440</td>\n",
       "    </tr>\n",
       "    <tr>\n",
       "      <th>231</th>\n",
       "      <td>James Bay</td>\n",
       "      <td>2514052</td>\n",
       "    </tr>\n",
       "  </tbody>\n",
       "</table>\n",
       "</div>"
      ],
      "text/plain": [
       "            Artist  Followers\n",
       "195  Summer Walker     534292\n",
       "142     The Weeknd   17289675\n",
       "130           a-ha     955347\n",
       "380          R3HAB    1819163\n",
       "224     Tropkillaz     165670\n",
       "18     KitschKrieg      63128\n",
       "172  Felipe Araújo    2392958\n",
       "483             es       2101\n",
       "475      Lil Tecca     810440\n",
       "231      James Bay    2514052"
      ]
     },
     "execution_count": 43,
     "metadata": {},
     "output_type": "execute_result"
    }
   ],
   "source": [
    "artist_df = pd.read_csv('./data/artist_data.csv', index_col=0)\n",
    "\n",
    "artist_df.drop(labels=['Title', 'Streams', 'Date'], axis=1, inplace=True)\n",
    "\n",
    "artist_df.sample(10)"
   ]
  },
  {
   "cell_type": "code",
   "execution_count": 44,
   "metadata": {},
   "outputs": [],
   "source": [
    "data_df_temp = chart_df.merge(song_df, how='left', left_on='Token', right_on='Token')\n",
    "\n",
    "data_df = data_df_temp.merge(artist_df, how='left', left_on='Artist', right_on='Artist')"
   ]
  },
  {
   "cell_type": "code",
   "execution_count": 45,
   "metadata": {},
   "outputs": [
    {
     "data": {
      "text/html": [
       "<div>\n",
       "<style scoped>\n",
       "    .dataframe tbody tr th:only-of-type {\n",
       "        vertical-align: middle;\n",
       "    }\n",
       "\n",
       "    .dataframe tbody tr th {\n",
       "        vertical-align: top;\n",
       "    }\n",
       "\n",
       "    .dataframe thead th {\n",
       "        text-align: right;\n",
       "    }\n",
       "</style>\n",
       "<table border=\"1\" class=\"dataframe\">\n",
       "  <thead>\n",
       "    <tr style=\"text-align: right;\">\n",
       "      <th></th>\n",
       "      <th>Token</th>\n",
       "      <th>Streams</th>\n",
       "      <th>Title</th>\n",
       "      <th>Artist</th>\n",
       "      <th>Date</th>\n",
       "      <th>Duration</th>\n",
       "      <th>Loudness</th>\n",
       "      <th>Speechiness</th>\n",
       "      <th>Energy</th>\n",
       "      <th>Tempo</th>\n",
       "      <th>Valence</th>\n",
       "      <th>Instrumentalness</th>\n",
       "      <th>Modality</th>\n",
       "      <th>Followers</th>\n",
       "    </tr>\n",
       "  </thead>\n",
       "  <tbody>\n",
       "    <tr>\n",
       "      <th>0</th>\n",
       "      <td>00EPIEnX1JFjff8sC6bccd</td>\n",
       "      <td>29236210</td>\n",
       "      <td>No Me Acuerdo</td>\n",
       "      <td>Thalía</td>\n",
       "      <td>2018-11-08</td>\n",
       "      <td>217653</td>\n",
       "      <td>-4.247</td>\n",
       "      <td>0.0873</td>\n",
       "      <td>0.799</td>\n",
       "      <td>94.033</td>\n",
       "      <td>0.7720</td>\n",
       "      <td>0.0000</td>\n",
       "      <td>0</td>\n",
       "      <td>2203867</td>\n",
       "    </tr>\n",
       "    <tr>\n",
       "      <th>1</th>\n",
       "      <td>00ko9WaS4jOX1kEk3gvHjf</td>\n",
       "      <td>13404569</td>\n",
       "      <td>Hot Shower</td>\n",
       "      <td>Chance the Rapper</td>\n",
       "      <td>2019-08-13</td>\n",
       "      <td>225924</td>\n",
       "      <td>-7.578</td>\n",
       "      <td>0.3740</td>\n",
       "      <td>0.522</td>\n",
       "      <td>149.986</td>\n",
       "      <td>0.6230</td>\n",
       "      <td>0.0000</td>\n",
       "      <td>1</td>\n",
       "      <td>4379848</td>\n",
       "    </tr>\n",
       "    <tr>\n",
       "      <th>2</th>\n",
       "      <td>00mrTzjxIRuWJY01sRBJmO</td>\n",
       "      <td>877954</td>\n",
       "      <td>Dark Side Of The Moon (feat. Nicki Minaj)</td>\n",
       "      <td>Lil Wayne</td>\n",
       "      <td>2018-10-03</td>\n",
       "      <td>242972</td>\n",
       "      <td>-5.384</td>\n",
       "      <td>0.2970</td>\n",
       "      <td>0.457</td>\n",
       "      <td>73.724</td>\n",
       "      <td>0.4580</td>\n",
       "      <td>0.0000</td>\n",
       "      <td>1</td>\n",
       "      <td>8328932</td>\n",
       "    </tr>\n",
       "    <tr>\n",
       "      <th>3</th>\n",
       "      <td>00v5O7qsglyTtp2q1M9DZr</td>\n",
       "      <td>1155602</td>\n",
       "      <td>Pray You Catch Me</td>\n",
       "      <td>Beyoncé</td>\n",
       "      <td>2019-04-23</td>\n",
       "      <td>196000</td>\n",
       "      <td>-13.676</td>\n",
       "      <td>0.0380</td>\n",
       "      <td>0.218</td>\n",
       "      <td>175.844</td>\n",
       "      <td>0.0786</td>\n",
       "      <td>0.0668</td>\n",
       "      <td>0</td>\n",
       "      <td>20350283</td>\n",
       "    </tr>\n",
       "    <tr>\n",
       "      <th>4</th>\n",
       "      <td>01DOm09B2AbiTARAbXVI6g</td>\n",
       "      <td>10407677</td>\n",
       "      <td>CHopstix (with Travis Scott)</td>\n",
       "      <td>ScHoolboy Q</td>\n",
       "      <td>2019-04-20</td>\n",
       "      <td>181153</td>\n",
       "      <td>-6.996</td>\n",
       "      <td>0.1180</td>\n",
       "      <td>0.600</td>\n",
       "      <td>127.933</td>\n",
       "      <td>0.6070</td>\n",
       "      <td>0.0000</td>\n",
       "      <td>0</td>\n",
       "      <td>2756517</td>\n",
       "    </tr>\n",
       "  </tbody>\n",
       "</table>\n",
       "</div>"
      ],
      "text/plain": [
       "                    Token   Streams  \\\n",
       "0  00EPIEnX1JFjff8sC6bccd  29236210   \n",
       "1  00ko9WaS4jOX1kEk3gvHjf  13404569   \n",
       "2  00mrTzjxIRuWJY01sRBJmO    877954   \n",
       "3  00v5O7qsglyTtp2q1M9DZr   1155602   \n",
       "4  01DOm09B2AbiTARAbXVI6g  10407677   \n",
       "\n",
       "                                       Title             Artist        Date  \\\n",
       "0                              No Me Acuerdo             Thalía  2018-11-08   \n",
       "1                                 Hot Shower  Chance the Rapper  2019-08-13   \n",
       "2  Dark Side Of The Moon (feat. Nicki Minaj)          Lil Wayne  2018-10-03   \n",
       "3                          Pray You Catch Me            Beyoncé  2019-04-23   \n",
       "4               CHopstix (with Travis Scott)        ScHoolboy Q  2019-04-20   \n",
       "\n",
       "   Duration  Loudness  Speechiness  Energy    Tempo  Valence  \\\n",
       "0    217653    -4.247       0.0873   0.799   94.033   0.7720   \n",
       "1    225924    -7.578       0.3740   0.522  149.986   0.6230   \n",
       "2    242972    -5.384       0.2970   0.457   73.724   0.4580   \n",
       "3    196000   -13.676       0.0380   0.218  175.844   0.0786   \n",
       "4    181153    -6.996       0.1180   0.600  127.933   0.6070   \n",
       "\n",
       "   Instrumentalness  Modality  Followers  \n",
       "0            0.0000         0    2203867  \n",
       "1            0.0000         1    4379848  \n",
       "2            0.0000         1    8328932  \n",
       "3            0.0668         0   20350283  \n",
       "4            0.0000         0    2756517  "
      ]
     },
     "execution_count": 45,
     "metadata": {},
     "output_type": "execute_result"
    }
   ],
   "source": [
    "data_df.head()"
   ]
  },
  {
   "cell_type": "code",
   "execution_count": 47,
   "metadata": {},
   "outputs": [
    {
     "data": {
      "text/plain": [
       "0.04748575686275436"
      ]
     },
     "execution_count": 47,
     "metadata": {},
     "output_type": "execute_result"
    }
   ],
   "source": [
    "lr = LinearRegression()\n",
    "\n",
    "X = data_df.iloc[:, 5:]\n",
    "\n",
    "y = data_df.iloc[:, 1]\n",
    "\n",
    "\n",
    "lr.fit(X, y)\n",
    "\n",
    "lr.score(X,y)"
   ]
  },
  {
   "cell_type": "code",
   "execution_count": 48,
   "metadata": {},
   "outputs": [],
   "source": [
    "X, y = data_df.iloc[:, 5:], data_df['Streams']\n",
    "\n",
    "#20% gets withheld for testing purposes\n",
    "X, X_test, y, y_test = train_test_split(X, y, test_size=.2, random_state=10)\n",
    "\n",
    "#Another 20% is withheld for validation, leaving 60% for training\n",
    "X_train, X_val, y_train, y_val = train_test_split(X, y, test_size=.25, random_state=3)"
   ]
  },
  {
   "cell_type": "code",
   "execution_count": 49,
   "metadata": {},
   "outputs": [],
   "source": [
    "lm = LinearRegression()\n",
    "\n",
    "scaler = StandardScaler()\n",
    "\n",
    "X_train_scaled = scaler.fit_transform(X_train.values)\n",
    "X_val_scaled = scaler.transform(X_val.values)\n",
    "X_test_scaled = scaler.transform(X_test.values)\n",
    "\n",
    "lm_reg = Ridge(alpha=1)\n",
    "\n",
    "poly = PolynomialFeatures(degree=2) \n",
    "\n",
    "X_train_poly = poly.fit_transform(X_train.values)\n",
    "X_val_poly = poly.transform(X_val.values)\n",
    "X_test_poly = poly.transform(X_test.values)\n",
    "\n",
    "lm_poly = LinearRegression()"
   ]
  },
  {
   "cell_type": "code",
   "execution_count": 50,
   "metadata": {},
   "outputs": [
    {
     "name": "stdout",
     "output_type": "stream",
     "text": [
      "Linear Regression val R^2: 0.052\n",
      "Ridge Regression val R^2: 0.052\n",
      "Degree 2 polynomial regression val R^2: 0.009\n"
     ]
    }
   ],
   "source": [
    "lm.fit(X_train, y_train)\n",
    "print(f'Linear Regression val R^2: {lm.score(X_val, y_val):.3f}')\n",
    "\n",
    "lm_reg.fit(X_train_scaled, y_train)\n",
    "print(f'Ridge Regression val R^2: {lm_reg.score(X_val_scaled, y_val):.3f}')\n",
    "\n",
    "lm_poly.fit(X_train_poly, y_train)\n",
    "print(f'Degree 2 polynomial regression val R^2: {lm_poly.score(X_val_poly, y_val):.3f}')"
   ]
  },
  {
   "cell_type": "code",
   "execution_count": 51,
   "metadata": {},
   "outputs": [
    {
     "name": "stdout",
     "output_type": "stream",
     "text": [
      "Linear Regression val R^2: 0.024\n"
     ]
    }
   ],
   "source": [
    "lm_poly.fit(X,y)\n",
    "print(f'Linear Regression val R^2: {lm.score(X_test, y_test):.3f}')"
   ]
  },
  {
   "cell_type": "code",
   "execution_count": 52,
   "metadata": {},
   "outputs": [],
   "source": [
    "from sklearn.model_selection import KFold\n",
    "\n",
    "X, y = data_df.iloc[:,5:], data_df['Streams']\n",
    "\n",
    "X, X_test, y, y_test = train_test_split(X, y, test_size=.2, random_state=10) #hold out 20% of the data for final testing\n",
    "\n",
    "#this helps with the way kf will generate indices below\n",
    "X, y = np.array(X), np.array(y)"
   ]
  },
  {
   "cell_type": "code",
   "execution_count": 53,
   "metadata": {},
   "outputs": [
    {
     "name": "stdout",
     "output_type": "stream",
     "text": [
      "Simple regression scores:  [0.005796638552944766, 0.057906531870359546, 0.017216767428353763, 0.047703155489297044, 0.03374790939772132]\n",
      "Ridge scores:  [0.005848685940944454, 0.05785526104874383, 0.01725442087246265, 0.04775346411143755, 0.03376123525519237] \n",
      "\n",
      "Simple mean cv r^2: 0.032 +- 0.019\n",
      "Ridge mean cv r^2: 0.032 +- 0.019\n"
     ]
    }
   ],
   "source": [
    "#run the CV\n",
    "\n",
    "kf = KFold(n_splits=5, shuffle=True, random_state = 71)\n",
    "cv_lm_r2s, cv_lm_reg_r2s = [], [] #collect the validation results for both models\n",
    "\n",
    "for train_ind, val_ind in kf.split(X,y):\n",
    "    \n",
    "    X_train, y_train = X[train_ind], y[train_ind]\n",
    "    X_val, y_val = X[val_ind], y[val_ind] \n",
    "    \n",
    "    #simple linear regression\n",
    "    lm = LinearRegression()\n",
    "    lm_reg = Ridge(alpha=1)\n",
    "\n",
    "    lm.fit(X_train, y_train)\n",
    "    cv_lm_r2s.append(lm.score(X_val, y_val))\n",
    "    \n",
    "    #ridge with feature scaling\n",
    "    scaler = StandardScaler()\n",
    "    X_train_scaled = scaler.fit_transform(X_train)\n",
    "    X_val_scaled = scaler.transform(X_val)\n",
    "    \n",
    "    lm_reg.fit(X_train_scaled, y_train)\n",
    "    cv_lm_reg_r2s.append(lm_reg.score(X_val_scaled, y_val))\n",
    "\n",
    "print('Simple regression scores: ', cv_lm_r2s)\n",
    "print('Ridge scores: ', cv_lm_reg_r2s, '\\n')\n",
    "\n",
    "print(f'Simple mean cv r^2: {np.mean(cv_lm_r2s):.3f} +- {np.std(cv_lm_r2s):.3f}')\n",
    "print(f'Ridge mean cv r^2: {np.mean(cv_lm_reg_r2s):.3f} +- {np.std(cv_lm_reg_r2s):.3f}')"
   ]
  },
  {
   "cell_type": "code",
   "execution_count": 54,
   "metadata": {},
   "outputs": [
    {
     "name": "stdout",
     "output_type": "stream",
     "text": [
      "Ridge Regression test R^2: 0.026\n"
     ]
    }
   ],
   "source": [
    "scaler = StandardScaler()\n",
    "X_scaled = scaler.fit_transform(X)\n",
    "X_test_scaled = scaler.transform(X_test)\n",
    "\n",
    "lm_reg = Ridge(alpha=1)\n",
    "lm_reg.fit(X_scaled,y)\n",
    "print(f'Ridge Regression test R^2: {lm_reg.score(X_test_scaled, y_test):.3f}')"
   ]
  },
  {
   "cell_type": "code",
   "execution_count": 57,
   "metadata": {},
   "outputs": [
    {
     "data": {
      "text/plain": [
       "Lasso(alpha=100000, copy_X=True, fit_intercept=True, max_iter=1000,\n",
       "      normalize=False, positive=False, precompute=False, random_state=None,\n",
       "      selection='cyclic', tol=0.0001, warm_start=False)"
      ]
     },
     "execution_count": 57,
     "metadata": {},
     "output_type": "execute_result"
    }
   ],
   "source": [
    "lasso_model = Lasso(alpha = 100000) \n",
    "lasso_model.fit(X_train, y_train)"
   ]
  },
  {
   "cell_type": "code",
   "execution_count": 58,
   "metadata": {},
   "outputs": [
    {
     "data": {
      "text/plain": [
       "[('Duration', 5.470435175168934),\n",
       " ('Loudness', 5879472.507806241),\n",
       " ('Speechiness', -33745300.412992045),\n",
       " ('Energy', -73131438.85233325),\n",
       " ('Tempo', -49527.34198550128),\n",
       " ('Valence', 37897622.12123547),\n",
       " ('Instrumentalness', -0.0),\n",
       " ('Modality', -8426960.323174482),\n",
       " ('Followers', 1.571303504100804)]"
      ]
     },
     "execution_count": 58,
     "metadata": {},
     "output_type": "execute_result"
    }
   ],
   "source": [
    "columns = ['Duration', 'Loudness', 'Speechiness', 'Energy', 'Tempo', 'Valence', 'Instrumentalness', 'Modality', 'Followers']\n",
    "list(zip(columns, lasso_model.coef_))"
   ]
  },
  {
   "cell_type": "code",
   "execution_count": 65,
   "metadata": {
    "scrolled": false
   },
   "outputs": [
    {
     "data": {
      "image/png": "[encoded data removed]",
      "text/plain": [
       "<Figure size 864x576 with 1 Axes>"
      ]
     },
     "metadata": {
      "needs_background": "light"
     },
     "output_type": "display_data"
    }
   ],
   "source": [
    "test_set_pred = lasso_model.predict(X_test)\n",
    "plt.figure(figsize=(12,8))\n",
    "plt.scatter(test_set_pred, y_test, alpha=.3)\n",
    "plt.plot(np.linspace(0,150000000,10000), np.linspace(0,150000000,10000));\n",
    "plt.title('Predicted Streams vs. Actual Streams')\n",
    "plt.xlabel('Predicted Streams (In millions)')\n",
    "plt.ylabel('Actual Streams (In millions)')\n",
    "plt.gca().xaxis.set_major_formatter(x_format)\n",
    "plt.gca().yaxis.set_major_formatter(y_format)\n",
    "plt.savefig('comparison.png', format='png')"
   ]
  },
  {
   "cell_type": "code",
   "execution_count": 63,
   "metadata": {},
   "outputs": [
    {
     "data": {
      "text/plain": [
       "0.023942132312039566"
      ]
     },
     "execution_count": 63,
     "metadata": {},
     "output_type": "execute_result"
    }
   ],
   "source": [
    "r2_score(y_test, test_set_pred)"
   ]
  },
  {
   "cell_type": "code",
   "execution_count": 66,
   "metadata": {},
   "outputs": [
    {
     "data": {
      "text/html": [
       "<div>\n",
       "<style scoped>\n",
       "    .dataframe tbody tr th:only-of-type {\n",
       "        vertical-align: middle;\n",
       "    }\n",
       "\n",
       "    .dataframe tbody tr th {\n",
       "        vertical-align: top;\n",
       "    }\n",
       "\n",
       "    .dataframe thead th {\n",
       "        text-align: right;\n",
       "    }\n",
       "</style>\n",
       "<table border=\"1\" class=\"dataframe\">\n",
       "  <thead>\n",
       "    <tr style=\"text-align: right;\">\n",
       "      <th></th>\n",
       "      <th>Token</th>\n",
       "      <th>Streams</th>\n",
       "      <th>Title</th>\n",
       "      <th>Artist</th>\n",
       "      <th>Date</th>\n",
       "      <th>Duration</th>\n",
       "      <th>Loudness</th>\n",
       "      <th>Speechiness</th>\n",
       "      <th>Energy</th>\n",
       "      <th>Tempo</th>\n",
       "      <th>Valence</th>\n",
       "      <th>Instrumentalness</th>\n",
       "      <th>Modality</th>\n",
       "      <th>Followers</th>\n",
       "    </tr>\n",
       "  </thead>\n",
       "  <tbody>\n",
       "    <tr>\n",
       "      <th>0</th>\n",
       "      <td>00EPIEnX1JFjff8sC6bccd</td>\n",
       "      <td>29236210</td>\n",
       "      <td>No Me Acuerdo</td>\n",
       "      <td>Thalía</td>\n",
       "      <td>2018-11-08</td>\n",
       "      <td>217653</td>\n",
       "      <td>-4.247</td>\n",
       "      <td>0.0873</td>\n",
       "      <td>0.799</td>\n",
       "      <td>94.033</td>\n",
       "      <td>0.7720</td>\n",
       "      <td>0.0000</td>\n",
       "      <td>0</td>\n",
       "      <td>2203867</td>\n",
       "    </tr>\n",
       "    <tr>\n",
       "      <th>1</th>\n",
       "      <td>00ko9WaS4jOX1kEk3gvHjf</td>\n",
       "      <td>13404569</td>\n",
       "      <td>Hot Shower</td>\n",
       "      <td>Chance the Rapper</td>\n",
       "      <td>2019-08-13</td>\n",
       "      <td>225924</td>\n",
       "      <td>-7.578</td>\n",
       "      <td>0.3740</td>\n",
       "      <td>0.522</td>\n",
       "      <td>149.986</td>\n",
       "      <td>0.6230</td>\n",
       "      <td>0.0000</td>\n",
       "      <td>1</td>\n",
       "      <td>4379848</td>\n",
       "    </tr>\n",
       "    <tr>\n",
       "      <th>2</th>\n",
       "      <td>00mrTzjxIRuWJY01sRBJmO</td>\n",
       "      <td>877954</td>\n",
       "      <td>Dark Side Of The Moon (feat. Nicki Minaj)</td>\n",
       "      <td>Lil Wayne</td>\n",
       "      <td>2018-10-03</td>\n",
       "      <td>242972</td>\n",
       "      <td>-5.384</td>\n",
       "      <td>0.2970</td>\n",
       "      <td>0.457</td>\n",
       "      <td>73.724</td>\n",
       "      <td>0.4580</td>\n",
       "      <td>0.0000</td>\n",
       "      <td>1</td>\n",
       "      <td>8328932</td>\n",
       "    </tr>\n",
       "    <tr>\n",
       "      <th>3</th>\n",
       "      <td>00v5O7qsglyTtp2q1M9DZr</td>\n",
       "      <td>1155602</td>\n",
       "      <td>Pray You Catch Me</td>\n",
       "      <td>Beyoncé</td>\n",
       "      <td>2019-04-23</td>\n",
       "      <td>196000</td>\n",
       "      <td>-13.676</td>\n",
       "      <td>0.0380</td>\n",
       "      <td>0.218</td>\n",
       "      <td>175.844</td>\n",
       "      <td>0.0786</td>\n",
       "      <td>0.0668</td>\n",
       "      <td>0</td>\n",
       "      <td>20350283</td>\n",
       "    </tr>\n",
       "    <tr>\n",
       "      <th>4</th>\n",
       "      <td>01DOm09B2AbiTARAbXVI6g</td>\n",
       "      <td>10407677</td>\n",
       "      <td>CHopstix (with Travis Scott)</td>\n",
       "      <td>ScHoolboy Q</td>\n",
       "      <td>2019-04-20</td>\n",
       "      <td>181153</td>\n",
       "      <td>-6.996</td>\n",
       "      <td>0.1180</td>\n",
       "      <td>0.600</td>\n",
       "      <td>127.933</td>\n",
       "      <td>0.6070</td>\n",
       "      <td>0.0000</td>\n",
       "      <td>0</td>\n",
       "      <td>2756517</td>\n",
       "    </tr>\n",
       "  </tbody>\n",
       "</table>\n",
       "</div>"
      ],
      "text/plain": [
       "                    Token   Streams  \\\n",
       "0  00EPIEnX1JFjff8sC6bccd  29236210   \n",
       "1  00ko9WaS4jOX1kEk3gvHjf  13404569   \n",
       "2  00mrTzjxIRuWJY01sRBJmO    877954   \n",
       "3  00v5O7qsglyTtp2q1M9DZr   1155602   \n",
       "4  01DOm09B2AbiTARAbXVI6g  10407677   \n",
       "\n",
       "                                       Title             Artist        Date  \\\n",
       "0                              No Me Acuerdo             Thalía  2018-11-08   \n",
       "1                                 Hot Shower  Chance the Rapper  2019-08-13   \n",
       "2  Dark Side Of The Moon (feat. Nicki Minaj)          Lil Wayne  2018-10-03   \n",
       "3                          Pray You Catch Me            Beyoncé  2019-04-23   \n",
       "4               CHopstix (with Travis Scott)        ScHoolboy Q  2019-04-20   \n",
       "\n",
       "   Duration  Loudness  Speechiness  Energy    Tempo  Valence  \\\n",
       "0    217653    -4.247       0.0873   0.799   94.033   0.7720   \n",
       "1    225924    -7.578       0.3740   0.522  149.986   0.6230   \n",
       "2    242972    -5.384       0.2970   0.457   73.724   0.4580   \n",
       "3    196000   -13.676       0.0380   0.218  175.844   0.0786   \n",
       "4    181153    -6.996       0.1180   0.600  127.933   0.6070   \n",
       "\n",
       "   Instrumentalness  Modality  Followers  \n",
       "0            0.0000         0    2203867  \n",
       "1            0.0000         1    4379848  \n",
       "2            0.0000         1    8328932  \n",
       "3            0.0668         0   20350283  \n",
       "4            0.0000         0    2756517  "
      ]
     },
     "execution_count": 66,
     "metadata": {},
     "output_type": "execute_result"
    }
   ],
   "source": [
    "# data_df.head()"
   ]
  },
  {
   "cell_type": "code",
   "execution_count": 67,
   "metadata": {},
   "outputs": [],
   "source": [
    "# stream_model = smf.ols('Streams ~ Duration + Loudness + Speechiness + Energy + Tempo + Valence + Instrumentalness + Modality + Followers', data=data_df).fit()"
   ]
  },
  {
   "cell_type": "code",
   "execution_count": 68,
   "metadata": {
    "scrolled": false
   },
   "outputs": [
    {
     "name": "stdout",
     "output_type": "stream",
     "text": [
      "                            OLS Regression Results                            \n",
      "==============================================================================\n",
      "Dep. Variable:                Streams   R-squared:                       0.047\n",
      "Model:                            OLS   Adj. R-squared:                  0.043\n",
      "Method:                 Least Squares   F-statistic:                     10.39\n",
      "Date:                Fri, 11 Oct 2019   Prob (F-statistic):           8.38e-16\n",
      "Time:                        09:58:08   Log-Likelihood:                -37342.\n",
      "No. Observations:                1886   AIC:                         7.470e+04\n",
      "Df Residuals:                    1876   BIC:                         7.476e+04\n",
      "Df Model:                           9                                         \n",
      "Covariance Type:            nonrobust                                         \n",
      "====================================================================================\n",
      "                       coef    std err          t      P>|t|      [0.025      0.975]\n",
      "------------------------------------------------------------------------------------\n",
      "Intercept         1.204e+08   2.32e+07      5.188      0.000    7.49e+07    1.66e+08\n",
      "Duration           -14.7650     40.409     -0.365      0.715     -94.017      64.487\n",
      "Loudness          5.385e+06   1.26e+06      4.276      0.000    2.92e+06    7.85e+06\n",
      "Speechiness      -3.992e+07   1.86e+07     -2.149      0.032   -7.63e+07   -3.49e+06\n",
      "Energy           -6.808e+07   2.07e+07     -3.288      0.001   -1.09e+08   -2.75e+07\n",
      "Tempo            -6.385e+04   7.46e+04     -0.856      0.392    -2.1e+05    8.24e+04\n",
      "Valence           2.019e+07   1.08e+07      1.863      0.063   -1.07e+06    4.14e+07\n",
      "Instrumentalness  1.011e+07   2.89e+07      0.349      0.727   -4.67e+07    6.69e+07\n",
      "Modality         -4.289e+06   4.55e+06     -0.943      0.346   -1.32e+07    4.63e+06\n",
      "Followers            1.7063      0.227      7.504      0.000       1.260       2.152\n",
      "==============================================================================\n",
      "Omnibus:                     1509.936   Durbin-Watson:                   2.016\n",
      "Prob(Omnibus):                  0.000   Jarque-Bera (JB):            31204.412\n",
      "Skew:                           3.722   Prob(JB):                         0.00\n",
      "Kurtosis:                      21.485   Cond. No.                     1.76e+08\n",
      "==============================================================================\n",
      "\n",
      "Warnings:\n",
      "[1] Standard Errors assume that the covariance matrix of the errors is correctly specified.\n",
      "[2] The condition number is large, 1.76e+08. This might indicate that there are\n",
      "strong multicollinearity or other numerical problems.\n"
     ]
    }
   ],
   "source": [
    "# print(stream_model.summary())"
   ]
  },
  {
   "cell_type": "code",
   "execution_count": 70,
   "metadata": {},
   "outputs": [
    {
     "data": {
      "image/png": "[encoded data removed]",
      "text/plain": [
       "<Figure size 576x864 with 10 Axes>"
      ]
     },
     "metadata": {
      "needs_background": "light"
     },
     "output_type": "display_data"
    }
   ],
   "source": [
    "# fig = plt.figure(figsize=(8,12))\n",
    "# fig = sm.graphics.plot_partregress_grid(stream_model, fig=fig)\n",
    "# plt.savefig('partials.png', format='png')"
   ]
  },
  {
   "cell_type": "code",
   "execution_count": null,
   "metadata": {},
   "outputs": [],
   "source": []
  }
 ],
 "metadata": {
  "kernelspec": {
   "display_name": "Python 3",
   "language": "python",
   "name": "python3"
  },
  "language_info": {
   "codemirror_mode": {
    "name": "ipython",
    "version": 3
   },
   "file_extension": ".py",
   "mimetype": "text/x-python",
   "name": "python",
   "nbconvert_exporter": "python",
   "pygments_lexer": "ipython3",
   "version": "3.7.3"
  }
 },
 "nbformat": 4,
 "nbformat_minor": 2
}
